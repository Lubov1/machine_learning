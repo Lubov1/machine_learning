{
 "cells": [
  {
   "cell_type": "markdown",
   "metadata": {},
   "source": [
    "# Алгоритмы интеллектуальной обработки больших объемов данных\n",
    "## Домашнее задание №4 - Алгоритмы кластеризации\n"
   ]
  },
  {
   "cell_type": "markdown",
   "metadata": {},
   "source": [
    "###### <hr\\>\n",
    "**Общая информация**\n",
    "\n",
    "**Срок сдачи:** 10 декабря 2019, 06:00 <br\\>\n",
    "**Штраф за опоздание:** -2 балла после 06:00 10 декабря, -4 балла после 06:00 17 декабря, -6 баллов после 06:00 24 декабря -8 баллов  после 06:00 31 декабря\n",
    "\n",
    "При отправлении ДЗ указывайте фамилию в названии файла Присылать ДЗ необходимо в виде ссылки на свой github репозиторий на почту ml1.sphere@mail.ru с указанием темы в следующем формате:\n",
    "[ML0919, Задание 4] Фамилия Имя\n",
    "\n",
    "Используйте данный Ipython Notebook при оформлении домашнего задания.\n",
    "<hr\\>"
   ]
  },
  {
   "cell_type": "markdown",
   "metadata": {},
   "source": [
    "**Из чего состоит задание:**\n",
    "\n",
    "###### Теоретические вопросы (2 балла)\n",
    "\n",
    "###### Реализация алгоритма кластеризации (5 баллов)\n",
    "\n",
    "###### Боевое применение (3 балла)\n",
    "\n",
    "\n"
   ]
  },
  {
   "cell_type": "markdown",
   "metadata": {},
   "source": [
    "**Штрафные баллы:**\n",
    "\n",
    "1. Невыполнение PEP8 -1 балл\n",
    "2. Отсутствие фамилии в имени скрипта (скрипт должен называться по аналогии со stroykova_hw4.ipynb) -1 балл\n",
    "3. Все строчки должны быть выполнены. Нужно, чтобы output команды можно было увидеть уже в git'е. В противном случае -1 балл\n",
    "4. При оформлении ДЗ нужно пользоваться данным файлом в качестве шаблона. Не нужно удалять и видоизменять написанный код и текст. В противном случае -1 балл"
   ]
  },
  {
   "cell_type": "code",
   "execution_count": 1,
   "metadata": {},
   "outputs": [
    {
     "name": "stdout",
     "output_type": "stream",
     "text": [
      "Populating the interactive namespace from numpy and matplotlib\n"
     ]
    }
   ],
   "source": [
    "import time\n",
    "import pandas as pd\n",
    "import pylab as pl\n",
    "import numpy as np\n",
    "import scipy.spatial as ss\n",
    "import sklearn.cluster as sc\n",
    "import sklearn.manifold as sm\n",
    "import sklearn.datasets as ds\n",
    "import sklearn.metrics as smt\n",
    "from sklearn.mixture import GaussianMixture\n",
    "from sklearn.cluster import AgglomerativeClustering\n",
    "from scipy.cluster.hierarchy import linkage, dendrogram\n",
    "from scipy.cluster.hierarchy import dendrogram, cophenet\n",
    "\n",
    "import matplotlib.pyplot as plt\n",
    "%matplotlib inline\n",
    "\n",
    "plt.style.use('ggplot')\n",
    "plt.rcParams['figure.figsize'] = (12,5)\n",
    "\n",
    "# Plotting config\n",
    "%pylab inline\n",
    "# %load_ext pycodestyle_magic\n"
   ]
  },
  {
   "cell_type": "markdown",
   "metadata": {},
   "source": [
    "# Теоретическое введение\n"
   ]
  },
  {
   "cell_type": "markdown",
   "metadata": {},
   "source": [
    "Основная задача кластерного анализа — разбиение исходного набора объектов на группы (кластеры) таким образом, чтобы объекты в группе были похожи друг на друга, а объекты из разных групп - отличались. \n",
    "\n",
    "В этой работе мы будем реализовывать агломеративную кластеризацию. "
   ]
  },
  {
   "cell_type": "markdown",
   "metadata": {
    "collapsed": true
   },
   "source": [
    "## Агломеративная кластеризация"
   ]
  },
  {
   "cell_type": "markdown",
   "metadata": {},
   "source": [
    "Иерархические алгоритмы кластеризации строят на выборке систему вложенных разбиений.  Наиболее часто испоьзуемые иерархические алгоритмы - агломеративные алгоритмы, которые строят ирархию по восходящей, то есть от момента, когда все элементы являются отдельными кластерами, до того момента, пока вся выборка не станет одним кластером."
   ]
  },
  {
   "cell_type": "markdown",
   "metadata": {},
   "source": [
    "Сам алгоритм описать можно примерно так:\n",
    "\n",
    "* начинаем с ситуации, когда каждый объект - отдельный кластер\n",
    "* на каждом шаге совмещаем два наиболее близких кластера\n",
    "* останавливаемся, когда получаем требуемое количество или единственный кластер"
   ]
  },
  {
   "cell_type": "markdown",
   "metadata": {},
   "source": [
    "\n",
    "В данной работе Вам предлагается реализовать три варианта расстояний между кластерами, по которым Вы определяете пару для слияния: \n",
    "* Single linkage\n",
    "$$ d_{min}(C_i, C_j) = \\min_{\\mathbf{x} \\in C_i, \\mathbf{x}' \\in C_j} \\|\\mathbf{x} -\\mathbf{x}' \\| $$\n",
    "\n",
    "* Complete linkage\n",
    "$$ d_{max}(C_i, C_j) = \\max_{\\mathbf{x} \\in C_i, \\mathbf{x}' \\in C_j} \\|\\mathbf{x} -\\mathbf{x}' \\| $$\n",
    "\n",
    "* Average linkage\n",
    "$$ d_{avg}(C_i, C_j) = \\frac{1}{n_i n_j}\\sum_{\\mathbf{x} \\in C_i}\\sum_{\\mathbf{x}' \\in C_j} \\|\\mathbf{x} -\\mathbf{x}' \\| $$\n",
    "\n",
    "Как считать расстояние $\\|\\mathbf{x} -\\mathbf{x}' \\|$ между объектами Вы должны выбрать сами.  Вы должны четко понимать, что выбор расстояния между объектами - самое важное в такого рода алгоритмах. Передавайте название расстояния в конструктор класса, а потом, в зависимости от названия, применяете ту или иную функцию для подсчета расстояния. \n",
    "\n"
   ]
  },
  {
   "cell_type": "markdown",
   "metadata": {},
   "source": [
    "Для того, чтобы на втором этапе нам не пересчитывать заново расстояния между всеми парами кластеров, можно использовать Формулы Ланса-Вильямса, которые позволяют посчитать расстояние между кластерами после объединения, используя только расстояния между кластерами до объедения.  Таким образом, достаточно будет посчитать расстояния только между всеми одноэлементными кластерами (первый этап), а затем пересчитывать расстояния при их объединении через \n",
    "формулы Ланса-Вильямса. \n",
    "\n",
    "Общая  формула выглядит так:\n",
    "$$ d(C_i \\cup C_j, C_k) = a_i \\cdot d(C_i, C_k) + a_j \\cdot d(C_j, C_k) + b \\cdot d(C_i, C_j) + c \\cdot |d(C_i, C_k) - d(C_j, C_k)|$$\n",
    "\n",
    "Можно показать, что все относительно разумные кластерные расстояния можно описать данной формулой. \n",
    "\n",
    "Для интересущих нас linkage:\n",
    "\n",
    "* single-linkage       $a_i = \\frac{1}{2}, a_j =  \\frac{1}{2}, b = 0, c =  - \\frac{1}{2} $\n",
    "\n",
    "* complete-linkage     $a_i = \\frac{1}{2}, a_j =  \\frac{1}{2}, b = 0, c =   \\frac{1}{2} $\n",
    "\n",
    "* average-linkage       $a_i = \\frac{|C_i|}{|C_i \\cup C_j|}, a_j =  \\frac{|C_j|}{|C_i \\cup C_j|}, b = 0, c = 0 $\n",
    "\n"
   ]
  },
  {
   "cell_type": "markdown",
   "metadata": {},
   "source": [
    "# Теоретические вопросы (2 балла)\n",
    "В этой части Вам будут предложены теоретичские вопросы и задачи по теме. Вы, конечно, можете списать их у своего товарища или найти решение в интернете, но учтите, что они обязательно войдут в теоретический коллоквиум. Лучше разобраться в теме сейчас и успешно ответить на коллоквиуме, чем списать, не разобравшись в материале, и быть терзаемым совестью. \n",
    "\n",
    "\n",
    "Формулы надо оформлять в формате **LaTeX**."
   ]
  },
  {
   "cell_type": "markdown",
   "metadata": {},
   "source": [
    "Задача 1. Сходимость kmeans.\n",
    "\n",
    "Докажите, что kmeans всегда сходится, и итераций не будет превышать $k^N$, где $k$ $-$ число кластеров, $N$ $-$ число объектов\n",
    "\n",
    "Подсказка: Вам стоит рассмотреть функционал, который минимизирует алгоритм, и подумать, как он изменяется на E шаге и на M шаге.\n",
    "\n"
   ]
  },
  {
   "cell_type": "markdown",
   "metadata": {},
   "source": [
    "***Ваше решение здесь***"
   ]
  },
  {
   "cell_type": "markdown",
   "metadata": {},
   "source": [
    "Минимизируем $L(C) = \\sum_{k=1}^K\\sum_{i\\in C_k} (x_i - \\mu_k)^2 \\rightarrow \\min\\limits_C$.\n",
    "\n",
    "Пусть случайным образом выбраны начальные центроиды и вычислен шаг $E$.\n",
    "\n",
    "$E \\rightarrow M$. Рассмотрим каждую из сумм $\\sum_{i\\in C_k} (x_i - \\mu_k)^2$. Как функция от $\\mu_k$ она достигает минимума при $\\mu_k = \\dfrac{1}{|C_k|}\\sum_{i\\in C_k} x_i$. Именно такая коррекция и производится на шаге $M$. Значит, после него $L(C)$ не возрастает.\n",
    "\n",
    "$M \\rightarrow E$. Для каждого $x_i$ его центроидой \"назначается\" ближайшая к нему $\\mu_k^{new}$, то есть, $(x_i - \\mu_K^{old}) \\geq (x_i - \\mu_K^{new})$. После шага $L(C)$ не возрастает.\n",
    "\n",
    "Каждое разбиение после применения $M$-шага однозначно определяет положение центроид. Существует $k^N$ возможных разбиений точек на кластеры, значит, после $k^N$ шагов невозрастания точно найдётся стационарная точка и процесс сойдётся. Из построения алгоритма следует, что при первом же достижении $L(C_{old}) = L(C_{new})$ процесс никогда не выйдет из этого состояния."
   ]
  },
  {
   "cell_type": "markdown",
   "metadata": {},
   "source": [
    "Задача 2.  ММП для многомерного нормального распределения.\n",
    "\n",
    "Функция правдоподобия в общем случае записывается как:\n",
    "￼\n",
    "￼$$ L(\\theta) = p(X | \\theta ) = \\prod_{i=1}^N p(x_i | \\theta)$$\n",
    "\n",
    "Для многомерного нормального распределения плотность вероятности:\n",
    "$$p(x_i| \\theta) = \\frac{1}{(2\\pi)^{n/2}|\\Sigma|^{1/2}}e^{-\\frac{1}{2} (x_i - \\mu)^T\\Sigma^{-1}(x_i - \\mu)}$$\n",
    "\n",
    "Выведите ММП оценку для вектора $\\mu$\n",
    "￼"
   ]
  },
  {
   "cell_type": "markdown",
   "metadata": {},
   "source": [
    "***Ваше решение здесь***"
   ]
  },
  {
   "cell_type": "markdown",
   "metadata": {},
   "source": [
    "$ ln p(x_i | \\theta) = ln(1/{(2\\pi)^{n/2}|\\Sigma|^{1/2}} ) - \\frac{1}{2}(x_i - \\mu)^T\\Sigma^{-1}(x_i - \\mu)$\n",
    "\n",
    "По правилам векторного дифференцирования:\n",
    "\n",
    "$ (ln p(x_i | \\theta))' = - \\frac{1}{2}((\\Sigma^{-1})^T + \\Sigma^{-1})(x_i - \\mu) = - \\Sigma^{-1}(x_i - \\mu)$\n",
    "$ (ln L(\\theta))' = \\sum_{k=1}^K(ln p(x_i | \\theta))' = - \\sum_{i=1}^N(\\Sigma^{-1}(x_i - \\mu)) = 0$\n",
    "$\\sum_{i=1}^N(x_i - \\mu) = 0$\n",
    "$\\mu = \\frac{1}{N} \\sum_{i=1}^Nx_i$"
   ]
  },
  {
   "cell_type": "markdown",
   "metadata": {},
   "source": [
    "Задача 3. Формулы Ланса-Вильямса.\n",
    "\n",
    "Формулы Ланса-Вильямса крайне удобны для быстрого пересчта расстояний в агломеративной кластеризации. Давайте докажем  формулы для single и complete linkage. \n",
    "\n",
    "Докажите, что:\n",
    "\n",
    "$d_{\\min}(U \\cup V, S) = \\frac{1}{2} d_{\\min}(U, S) + \\frac{1}{2} d_{\\min}(V, S)  - \\frac{1}{2} | d_{\\min}(U, S) - d_{\\min}(V, S) |  $\n",
    "\n",
    "\n",
    "$d_{\\max}(U \\cup V, S) = \\frac{1}{2} d_{\\max}(U, S) + \\frac{1}{2} d_{\\max}(V, S)  + \\frac{1}{2} | d_{\\max}(U, S) - d_{\\max}(V, S) |  $\n",
    "\n",
    "\n"
   ]
  },
  {
   "cell_type": "markdown",
   "metadata": {},
   "source": [
    "***Ваше решение здесь***"
   ]
  },
  {
   "cell_type": "markdown",
   "metadata": {},
   "source": [
    "Допустим, что $d_{\\min}(U \\cup V, S)$ достигается на $\\hat{\\mathbf{x}} \\in U$, $\\hat{\\mathbf{x}}' \\in S$. Тогда $d_{\\min}(U, S) \\leq d_{\\min}(V, S)$, поскольку в противном случае существовала бы пара $\\hat{\\mathbf{x}}_1 \\in V$, $\\hat{\\mathbf{x}}'_1 \\in S$, для которых $\\|\\hat{\\mathbf{x}}_1 - \\hat{\\mathbf{x}}'_1 \\| < \\|\\hat{\\mathbf{x}} - \\hat{\\mathbf{x}}'\\|$, что противоречит нашему изначальному предположению. Тогда правая часть формулы принимает вид $d_{\\min}(U, S)$, который также равен $\\|\\hat{\\mathbf{x}} - \\hat{\\mathbf{x}}'\\|$. Аналогично − если $d_{\\min}(U \\cup V, S)$ достигается на некоторых $\\hat{\\mathbf{x}} \\in V$, $\\hat{\\mathbf{x}}' \\in S$.\n",
    "\n",
    "Допустим, что $d_{\\max}(U \\cup V, S)$ достигается на $\\hat{\\mathbf{x}} \\in U$, $\\hat{\\mathbf{x}}' \\in S$. Тогда $d_{\\max}(U, S) \\geq d_{\\max}(V, S)$, поскольку в противном случае существовала бы пара $\\hat{\\mathbf{x}}_1 \\in V$, $\\hat{\\mathbf{x}}'_1 \\in S$, для которых $\\|\\hat{\\mathbf{x}}_1 - \\hat{\\mathbf{x}}'_1 \\| > \\|\\hat{\\mathbf{x}} - \\hat{\\mathbf{x}}'\\|$, что противоречит нашему изначальному предположению. Тогда правая часть формулы принимает вид $d_{\\max}(U, S)$, который также равен $\\|\\hat{\\mathbf{x}} - \\hat{\\mathbf{x}}'\\|$. Аналогично − если $d_{\\max}(U \\cup V, S)$ достигается на некоторых $\\hat{\\mathbf{x}} \\in V$, $\\hat{\\mathbf{x}}' \\in S$."
   ]
  },
  {
   "cell_type": "markdown",
   "metadata": {},
   "source": [
    "# Реализация алгоритма кластеризации  (5 баллов)"
   ]
  },
  {
   "cell_type": "markdown",
   "metadata": {},
   "source": [
    "Алгоритм кластеризации должен удовлетворять следующему интерфейсу. Конструктор принимает набор параметров, необходимых для работы алгоритма кластеризации. Метод `fit` подсчитывает параметры модели и возвращает `self`. Метод `predict` возвращает вектор с индексами кластеров для поданных в него объектов `x`. "
   ]
  },
  {
   "cell_type": "code",
   "execution_count": 2,
   "metadata": {},
   "outputs": [],
   "source": [
    "from sklearn.base import BaseEstimator, ClusterMixin\n",
    "from sklearn.metrics import pairwise_distances\n",
    "\n",
    "class Clustering(BaseEstimator, ClusterMixin):\n",
    "    \"\"\"\n",
    "    Implement clustering algorithm according \n",
    "    \"\"\"\n",
    "    \n",
    "    def __init__(self, metric='euclidean', lincage=\"single-linkage\", n_clusters=2, **kwargs):##2-lincage\n",
    "        \"\"\"\n",
    "        metric - string with name of metric, for example, euclidean\n",
    "        Please add necessary algoritm parameters to class constructor.\n",
    "        \"\"\"\n",
    "        self.metric = metric\n",
    "        self.linkage = lincage\n",
    "        self.n_clusters = n_clusters\n",
    "        return\n",
    "\n",
    "    def _distance(self, dist1, dist2, size1, size2):\n",
    "        if self.linkage == \"single-linkage\":\n",
    "            return (dist1 + dist2 - abs(dist1 - dist2)) / 2.0\n",
    "        elif self.linkage == \"complete-linkage\":\n",
    "            return (dist1 + dist2 + abs(dist1 - dist2)) / 2.0\n",
    "        elif self.linkage == \"average-linkage\":\n",
    "            return (size1 * dist1 + size2 * dist2) / (size1 + size2)\n",
    "        else:\n",
    "            raise AttributeError(\"Linkage type\")\n",
    "\n",
    "\n",
    "\n",
    "\n",
    "    def fit_predict(self, X):\n",
    "        \"\"\"\n",
    "        Use data matrix x to compute model parameters and predict clusters\n",
    "        \"\"\"\n",
    "        X = np.array(X)\n",
    "        n = X.shape[0]\n",
    "        self.X = X\n",
    "        dist = np.empty(shape=(2 * n - self.n_clusters, 2 * n - self.n_clusters))\n",
    "        dist[:n, :n] = pairwise_distances(X)\n",
    "\n",
    "        self.Z = np.empty(shape=(n - self.n_clusters, 4))\n",
    "\n",
    "        clusters = set(list(range(0, n)))\n",
    "\n",
    "        def size(ind):\n",
    "            if ind < n:\n",
    "                return 1\n",
    "            else:\n",
    "                return self.Z[ind - n, 3]\n",
    "\n",
    "        for c_ind in range(n, 2*n - self.n_clusters):\n",
    "            cut_cl = list(clusters)\n",
    "            len_tr = len(cut_cl)\n",
    "            cut_tr = np.triu_indices(len_tr, k=1)\n",
    "            min_rav_1 = dist[:, cut_cl][cut_cl, :][cut_tr].argmin()\n",
    "            min_rav_2 = np.ravel_multi_index(cut_tr, (len_tr, len_tr))[min_rav_1]\n",
    "  \n",
    "            min_sub = np.unravel_index(min_rav_2, (len_tr, len_tr))\n",
    "            to_aggl = [cut_cl[min_sub[0]], cut_cl[min_sub[1]]]\n",
    "                            \n",
    "            self.Z[c_ind - n, 0] = to_aggl[0]\n",
    "            self.Z[c_ind - n, 1] = to_aggl[1]\n",
    "            self.Z[c_ind - n, 2] = dist[to_aggl[0], to_aggl[1]]\n",
    "            self.Z[c_ind - n, 3] = size(to_aggl[0]) + size(to_aggl[1])\n",
    "\n",
    "            clusters.remove(to_aggl[0])\n",
    "            clusters.remove(to_aggl[1])\n",
    "\n",
    "            dist[cut_cl, c_ind] = self._distance(dist[cut_cl, to_aggl[0]], \n",
    "                                                 dist[cut_cl, to_aggl[1]],\n",
    "                                                  size(to_aggl[0]), size(to_aggl[1]))\n",
    "            dist[c_ind, cut_cl] = dist[cut_cl, c_ind]\n",
    "            clusters.add(c_ind)\n",
    "\n",
    "        self.clusters = clusters\n",
    "        self.labels = np.empty(n)\n",
    "\n",
    "        def set_label(label, ind):\n",
    "            if ind >= n:\n",
    "                set_label(label, int(self.Z[ind - n, 0]))\n",
    "                set_label(label, int(self.Z[ind - n, 1]))\n",
    "            else:\n",
    "                self.labels[int(ind)] = label\n",
    "\n",
    "        label_num = 0\n",
    "        for clust in self.clusters:\n",
    "            set_label(label_num, clust)\n",
    "            label_num += 1\n",
    "        preds = self.labels.astype(int)\n",
    "        return preds\n",
    "    \n",
    "    def plot_dendrogram(self):\n",
    "        \"\"\"\n",
    "        Try to visualize our data\n",
    "        \"\"\"\n",
    "        self.n_clusters = 1\n",
    "        link = self.fit_predict(self.X)\n",
    "        dendrogram(self.Z.astype(double))\n",
    "        plt.show()\n",
    "        pass"
   ]
  },
  {
   "cell_type": "markdown",
   "metadata": {},
   "source": [
    "Сначала проверим реализованный алгоритм кластеризации на классическом наборе данных [Iris](http://www.wikiwand.com/en/Iris_flower_data_set). Загрузим данные (они включены в библиотеку sklearn) и посмотрим на то, как они выглядят в двух проекциях (для простоты используем 2 класса из 3)."
   ]
  },
  {
   "cell_type": "code",
   "execution_count": 107,
   "metadata": {},
   "outputs": [
    {
     "data": {
      "image/png": "[encoded data removed]",
      "text/plain": [
       "<Figure size 720x360 with 2 Axes>"
      ]
     },
     "metadata": {
      "needs_background": "light"
     },
     "output_type": "display_data"
    }
   ],
   "source": [
    "iris = ds.load_iris()\n",
    "x_iris = iris.data[:100]\n",
    "y_iris = iris.target[:100]\n",
    "\n",
    "pl.figure(figsize=(10, 5))\n",
    "\n",
    "pl.subplot(1, 2, 1)\n",
    "pl.scatter(x_iris[:, 0], x_iris[:, 1], c=y_iris, cmap=pl.cm.PuOr, lw=0, s=30)\n",
    "plt.xlabel('Sepal length')\n",
    "plt.ylabel('Sepal width')\n",
    "\n",
    "pl.subplot(1, 2, 2)\n",
    "pl.scatter(x_iris[:, 2], x_iris[:, 3], c=y_iris, cmap=pl.cm.PuOr, lw=0, s=30)\n",
    "plt.xlabel('Petal length')\n",
    "plt.ylabel('Petal width')\n",
    "pl.show()"
   ]
  },
  {
   "cell_type": "markdown",
   "metadata": {},
   "source": [
    "Видно, что классы разделяются, поэтому можно надеяться, что наш алгоритм \"найдет\" кластеры, соответствующие исходным классам. Результат работы реализованного алгоритма кластеризации предлагается сравнить с эталонной кластеризацией. Для этого предлагается изучить метрику ([adjusted rand score](http://scikit-learn.org/stable/modules/generated/sklearn.metrics.adjusted_rand_score.html)). В случае если значение этой метрики отличается от 1, предлагается поработать над улучшением реализации своего алгоритма."
   ]
  },
  {
   "cell_type": "code",
   "execution_count": 33,
   "metadata": {},
   "outputs": [
    {
     "name": "stdout",
     "output_type": "stream",
     "text": [
      " Sklearn AGGL score 1.0. Sklearn AGGL time 0.0018167495727539062\n"
     ]
    }
   ],
   "source": [
    "# Давайте проверим, как справляются sklearn реализации\n",
    "sklearn_aggl = AgglomerativeClustering(n_clusters=2)\n",
    "aggl_t0 = time.time()\n",
    "aggl_pred = sklearn_aggl.fit_predict(x_iris)\n",
    "aggl_diff = time.time() - aggl_t0\n",
    "aggl_score = smt.adjusted_rand_score(y_iris, aggl_pred)\n",
    "print (\" Sklearn AGGL score {}. Sklearn AGGL time {}\".format(aggl_score, aggl_diff))"
   ]
  },
  {
   "cell_type": "code",
   "execution_count": 34,
   "metadata": {},
   "outputs": [
    {
     "name": "stdout",
     "output_type": "stream",
     "text": [
      "Our AGGL score 1.0. Our AGGL time 0.06496334075927734\n"
     ]
    },
    {
     "name": "stderr",
     "output_type": "stream",
     "text": [
      "/home/lubov/miniconda3/envs/sphere-py37/lib/python3.7/site-packages/ipykernel_launcher.py:21: RuntimeWarning: overflow encountered in subtract\n"
     ]
    }
   ],
   "source": [
    "# Здесь предскажем кластера, посчитаем метрику кластеризации и время работы, сравним со склерном\n",
    "# сustum_aggl = Clustering(metric='your_favourite_metric')\n",
    "сustum_aggl = Clustering(n_clusters=2)\n",
    "\n",
    "\n",
    "aggl_t0 = time.time()\n",
    "aggl_pred = сustum_aggl.fit_predict(x_iris)\n",
    "aggl_diff = time.time() - aggl_t0\n",
    "aggl_score = smt.adjusted_rand_score(y_iris, aggl_pred)\n",
    "print (\"Our AGGL score {}. Our AGGL time {}\".format(aggl_score, aggl_diff))"
   ]
  },
  {
   "cell_type": "markdown",
   "metadata": {
    "collapsed": true
   },
   "source": [
    "# Боевое применение (3  балла)\n"
   ]
  },
  {
   "cell_type": "markdown",
   "metadata": {
    "collapsed": true
   },
   "source": [
    "Алгоритмы кластеризации прекрасны тем, что они позволяют быстро понять, как устроены наши данные. Давайте применим Ваш алгоритм для нашего конкурса!"
   ]
  },
  {
   "cell_type": "markdown",
   "metadata": {},
   "source": [
    "Будем рассматривать каждую группу независимо от других групп. На каждой группе применим наш алгоритм и отрисуем денденограмму. По результатам кластерного анализа, Вам нужно ответить на следующие вопросы:\n",
    "\n",
    "1) Можно ли по дендонаграмме (или по другим результатам кластеризации) сказать, где в группе аномалии? Каким образом?\n",
    "\n",
    "2) Какое расстояние лучше использовать между заголовками страниц для кластеризации? \n",
    "\n",
    "2) Какое качество f1_score Вы смогли получить на обучающем множестве методами кластеризации? (валидацию можете не делать, если таргет не используете)\n",
    "\n",
    "4) Как можно результат кластеризации затем использовать для  финальной модели обучения с учителем?"
   ]
  },
  {
   "cell_type": "markdown",
   "metadata": {},
   "source": [
    "Подсказка: самое важное - выбрать расстояние между заголовками. Самый простой вариант:  процент различных слов в двух заголовках."
   ]
  },
  {
   "cell_type": "code",
   "execution_count": 6,
   "metadata": {},
   "outputs": [
    {
     "name": "stdout",
     "output_type": "stream",
     "text": [
      "28026\n"
     ]
    }
   ],
   "source": [
    "doc_to_title = {}\n",
    "with open('docs_titles.tsv') as f:\n",
    "    for num_line, line in enumerate(f):\n",
    "        if num_line == 0:\n",
    "            continue\n",
    "        data = line.strip().split('\\t', 1)\n",
    "        doc_id = int(data[0])\n",
    "        if len(data) == 1:\n",
    "            title = ''\n",
    "        else:\n",
    "            title = data[1]\n",
    "        doc_to_title[doc_id] = title\n",
    "print(len(doc_to_title))"
   ]
  },
  {
   "cell_type": "code",
   "execution_count": 7,
   "metadata": {},
   "outputs": [],
   "source": [
    "train_data = pd.read_csv('train_groups.csv')\n",
    "traingroups_titledata = {}\n",
    "for i in range(len(train_data)):\n",
    "    new_doc = train_data.iloc[i]\n",
    "    doc_group = new_doc['group_id']\n",
    "    doc_id = new_doc['doc_id']\n",
    "    target = new_doc['target']\n",
    "    title = doc_to_title[doc_id]\n",
    "    if doc_group not in traingroups_titledata:\n",
    "        traingroups_titledata[doc_group] = []\n",
    "    traingroups_titledata[doc_group].append((doc_id, title, target))"
   ]
  },
  {
   "cell_type": "markdown",
   "metadata": {},
   "source": [
    "Кластеризацию проводите в каждой группе отдельно, то есть изучайте, можно ли в группе  найти подкластер выбросов\n",
    "\n",
    "Документы можно представлять, например, словами из тайтла.\n",
    "\n",
    "Главное подобрать хорошую функцию расстояния между документами\n"
   ]
  },
  {
   "cell_type": "markdown",
   "metadata": {},
   "source": [
    "Замечание: в кластеризации можно использовать все данные, то есть трейн + тест, чтобы находить больше закономерностей "
   ]
  },
  {
   "cell_type": "code",
   "execution_count": 15,
   "metadata": {},
   "outputs": [],
   "source": [
    "# Место для Вашего кластерного анализа\n",
    "texts = []#список групп текстов\n",
    "l = []#список меток текстов\n",
    "for y in traingroups_titledata:\n",
    "    data = traingroups_titledata[y]\n",
    "    data_tok1 = []\n",
    "    data_tok2 = []\n",
    "    l_cur = []\n",
    "    for j in range(len(data)):\n",
    "        k = data[j][1].lower()\n",
    "        l_cur.append(data[j][2])\n",
    "        for i in range(len(k)):\n",
    "            if not ( k[i].isalnum() or k[i]==' '):\n",
    "                k = k.replace(k[i],' ')\n",
    "        k = k.split(' ')\n",
    "        k = [x for x in k if x!='']\n",
    "        if k != []:\n",
    "            data_tok2.append(k)\n",
    "        if data[j] != '':\n",
    "            data_tok1.append(data[j])\n",
    "        else:\n",
    "            target = np.delete(target, len(data_tok1))\n",
    "\n",
    "    data_tok = data_tok2\n",
    "    data_tok[1]\n",
    "    d = []\n",
    "    for i in range(len(data_tok)):\n",
    "        s = ''\n",
    "        for j in data_tok[i]:\n",
    "            s += ' ' + j\n",
    "        d.append(s)\n",
    "    texts.append(d)\n",
    "    l.append(l_cur)"
   ]
  },
  {
   "cell_type": "code",
   "execution_count": 97,
   "metadata": {},
   "outputs": [],
   "source": [
    "from scipy.sparse import csr_matrix\n",
    "from sklearn.feature_extraction.text import CountVectorizer\n",
    "vectorizer = CountVectorizer()\n",
    "X1 = vectorizer.fit_transform(texts[0])"
   ]
  },
  {
   "cell_type": "code",
   "execution_count": 98,
   "metadata": {},
   "outputs": [],
   "source": [
    "V = X1.toarray()"
   ]
  },
  {
   "cell_type": "code",
   "execution_count": 105,
   "metadata": {},
   "outputs": [
    {
     "name": "stderr",
     "output_type": "stream",
     "text": [
      "/home/lubov/miniconda3/envs/sphere-py37/lib/python3.7/site-packages/ipykernel_launcher.py:21: RuntimeWarning: overflow encountered in subtract\n",
      "/home/lubov/miniconda3/envs/sphere-py37/lib/python3.7/site-packages/ipykernel_launcher.py:21: RuntimeWarning: overflow encountered in subtract\n"
     ]
    },
    {
     "data": {
      "image/png": "[encoded data removed]",
      "text/plain": [
       "<Figure size 432x288 with 1 Axes>"
      ]
     },
     "metadata": {
      "needs_background": "light"
     },
     "output_type": "display_data"
    }
   ],
   "source": [
    "a = Clustering(n_clusters=8,metric='hamming')\n",
    "aggl_pred = a.fit_predict(np.array(V))\n",
    "a.plot_dendrogram()"
   ]
  },
  {
   "cell_type": "code",
   "execution_count": 110,
   "metadata": {},
   "outputs": [],
   "source": [
    "t = 0\n",
    "for i in range(len(aggl_pred)):\n",
    "    if aggl_pred[i] == 7:\n",
    "        aggl_pred[i] = 0\n",
    "    else:\n",
    "        aggl_pred[i] = 1"
   ]
  },
  {
   "cell_type": "code",
   "execution_count": 107,
   "metadata": {},
   "outputs": [
    {
     "data": {
      "text/plain": [
       "array([0, 0, 0, 0, 0, 0, 0, 0, 0, 0, 0, 0, 0, 0, 0, 0, 0, 0, 0, 0, 0, 1,\n",
       "       0, 0, 0, 0, 0, 0, 0, 0, 0, 1, 0, 0, 0, 0, 0, 0, 0, 0, 0, 0, 0, 0,\n",
       "       0, 0, 0, 0, 0, 0, 0, 0, 0, 1, 0, 0, 0, 0, 0, 0, 0, 0, 0, 0, 1, 0,\n",
       "       1, 0, 0, 1, 0, 0, 0, 0, 0, 0, 0, 0, 0, 0, 1, 0, 0, 0, 0, 0, 0, 0,\n",
       "       0, 0, 0, 0, 0, 0, 0, 0, 0, 0, 0, 0, 0, 0])"
      ]
     },
     "execution_count": 107,
     "metadata": {},
     "output_type": "execute_result"
    }
   ],
   "source": [
    "aggl_pred"
   ]
  },
  {
   "cell_type": "code",
   "execution_count": 109,
   "metadata": {},
   "outputs": [
    {
     "name": "stdout",
     "output_type": "stream",
     "text": [
      "Our AGGL score -0.06719494659861751.\n"
     ]
    }
   ],
   "source": [
    "aggl_score = smt.adjusted_rand_score(l[0], aggl_pred)\n",
    "print (\"Our AGGL score {}.\".format(aggl_score))"
   ]
  },
  {
   "cell_type": "markdown",
   "metadata": {
    "collapsed": true
   },
   "source": [
    "Если получилось найти выбросы с помощью кластеризации, то не забывайте использовать его в финальном решении. Помните - использование различных подходов к решению задачи всегда улучшает финального качество."
   ]
  },
  {
   "cell_type": "code",
   "execution_count": null,
   "metadata": {
    "collapsed": true
   },
   "outputs": [],
   "source": []
  },
  {
   "cell_type": "markdown",
   "metadata": {},
   "source": [
    "Здесь Вы можете оставить отзыв о этой домашней работе или о всем курсе.   "
   ]
  },
  {
   "cell_type": "markdown",
   "metadata": {},
   "source": [
    "*** ВАШ ОТЗЫВ ЗДЕСЬ***"
   ]
  },
  {
   "cell_type": "markdown",
   "metadata": {
    "collapsed": true
   },
   "source": []
  },
  {
   "cell_type": "markdown",
   "metadata": {
    "collapsed": true
   },
   "source": []
  }
 ],
 "metadata": {
  "anaconda-cloud": {},
  "kernelspec": {
   "display_name": "Python 3",
   "language": "python",
   "name": "python3"
  },
  "language_info": {
   "codemirror_mode": {
    "name": "ipython",
    "version": 3
   },
   "file_extension": ".py",
   "mimetype": "text/x-python",
   "name": "python",
   "nbconvert_exporter": "python",
   "pygments_lexer": "ipython3",
   "version": "3.7.5"
  }
 },
 "nbformat": 4,
 "nbformat_minor": 1
}
